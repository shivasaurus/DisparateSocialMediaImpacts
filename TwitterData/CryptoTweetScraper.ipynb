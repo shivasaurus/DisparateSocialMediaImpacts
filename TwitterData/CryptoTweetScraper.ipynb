{
 "cells": [
  {
   "cell_type": "code",
   "execution_count": 4,
   "metadata": {},
   "outputs": [
    {
     "data": {
      "text/plain": [
       "'3.10.2'"
      ]
     },
     "execution_count": 4,
     "metadata": {},
     "output_type": "execute_result"
    }
   ],
   "source": [
    "import os\n",
    "import pandas as pd\n",
    "import sys\n",
    "from platform import python_version\n",
    "python_version()"
   ]
  },
  {
   "cell_type": "code",
   "execution_count": 5,
   "metadata": {},
   "outputs": [],
   "source": [
    "sys.path.append(\"/Library/Frameworks/Python.framework/Versions/3.10/lib/python3.10/site-packages\")\n",
    "import snscrape.modules.twitter as sntwitter"
   ]
  },
  {
   "cell_type": "code",
   "execution_count": 6,
   "metadata": {},
   "outputs": [],
   "source": [
    "# Creating list to append tweet data to\n",
    "tweets_list1 = []\n",
    "\n",
    "# Using TwitterSearchScraper to scrape data and append tweets to list\n",
    "for i,tweet in enumerate(sntwitter.TwitterSearchScraper('(#cryptocurrency OR #crypto) filter:verified since:2020-08-01').get_items()):\n",
    "    tweets_list1.append([tweet.date, tweet.id, tweet.content, tweet.user.username])\n",
    "    \n",
    "# Creating a dataframe from the tweets list above \n",
    "tweets_df1 = pd.DataFrame(tweets_list1, columns=['Datetime', 'Tweet Id', 'Text', 'Username'])\n"
   ]
  },
  {
   "cell_type": "code",
   "execution_count": 7,
   "metadata": {},
   "outputs": [
    {
     "data": {
      "text/html": [
       "<div>\n",
       "<style scoped>\n",
       "    .dataframe tbody tr th:only-of-type {\n",
       "        vertical-align: middle;\n",
       "    }\n",
       "\n",
       "    .dataframe tbody tr th {\n",
       "        vertical-align: top;\n",
       "    }\n",
       "\n",
       "    .dataframe thead th {\n",
       "        text-align: right;\n",
       "    }\n",
       "</style>\n",
       "<table border=\"1\" class=\"dataframe\">\n",
       "  <thead>\n",
       "    <tr style=\"text-align: right;\">\n",
       "      <th></th>\n",
       "      <th>Datetime</th>\n",
       "      <th>Tweet Id</th>\n",
       "      <th>Text</th>\n",
       "      <th>Username</th>\n",
       "    </tr>\n",
       "  </thead>\n",
       "  <tbody>\n",
       "    <tr>\n",
       "      <th>0</th>\n",
       "      <td>2022-05-17 21:20:45+00:00</td>\n",
       "      <td>1526674103859568640</td>\n",
       "      <td>Because of the current #crypto market conditio...</td>\n",
       "      <td>MajesticDrama</td>\n",
       "    </tr>\n",
       "    <tr>\n",
       "      <th>1</th>\n",
       "      <td>2022-05-17 21:20:18+00:00</td>\n",
       "      <td>1526673992840617986</td>\n",
       "      <td>#Crypto has already lost more than $1 trillion...</td>\n",
       "      <td>Forbes_MENA_</td>\n",
       "    </tr>\n",
       "    <tr>\n",
       "      <th>2</th>\n",
       "      <td>2022-05-17 21:18:03+00:00</td>\n",
       "      <td>1526673427003854848</td>\n",
       "      <td>While #HODLing is generally associated with #c...</td>\n",
       "      <td>coinflip</td>\n",
       "    </tr>\n",
       "    <tr>\n",
       "      <th>3</th>\n",
       "      <td>2022-05-17 21:17:37+00:00</td>\n",
       "      <td>1526673317482139648</td>\n",
       "      <td>JUST IN: Bank of England Official Says Retail ...</td>\n",
       "      <td>TheDustyBC</td>\n",
       "    </tr>\n",
       "    <tr>\n",
       "      <th>4</th>\n",
       "      <td>2022-05-17 21:08:53+00:00</td>\n",
       "      <td>1526671118551113728</td>\n",
       "      <td>What #cryptocurrency is outperforming your exp...</td>\n",
       "      <td>BinanceUS</td>\n",
       "    </tr>\n",
       "    <tr>\n",
       "      <th>...</th>\n",
       "      <td>...</td>\n",
       "      <td>...</td>\n",
       "      <td>...</td>\n",
       "      <td>...</td>\n",
       "    </tr>\n",
       "    <tr>\n",
       "      <th>116468</th>\n",
       "      <td>2020-08-01 07:57:18+00:00</td>\n",
       "      <td>1289470246508793857</td>\n",
       "      <td>I’ll say that $VET will be the one #crypto tha...</td>\n",
       "      <td>davidgokhshtein</td>\n",
       "    </tr>\n",
       "    <tr>\n",
       "      <th>116469</th>\n",
       "      <td>2020-08-01 07:01:02+00:00</td>\n",
       "      <td>1289456084277579776</td>\n",
       "      <td>#Interview with top #Fintech Influencer, Found...</td>\n",
       "      <td>Onalytica</td>\n",
       "    </tr>\n",
       "    <tr>\n",
       "      <th>116470</th>\n",
       "      <td>2020-08-01 06:17:09+00:00</td>\n",
       "      <td>1289445044403961857</td>\n",
       "      <td>5/6 Us - If you get a chance to meet @narendra...</td>\n",
       "      <td>CoinDCX</td>\n",
       "    </tr>\n",
       "    <tr>\n",
       "      <th>116471</th>\n",
       "      <td>2020-08-01 06:17:07+00:00</td>\n",
       "      <td>1289445035222556673</td>\n",
       "      <td>1/6 #CryptoSpotlight with @blockchainlaw91\\n\\n...</td>\n",
       "      <td>CoinDCX</td>\n",
       "    </tr>\n",
       "    <tr>\n",
       "      <th>116472</th>\n",
       "      <td>2020-08-01 01:34:00+00:00</td>\n",
       "      <td>1289373784571428864</td>\n",
       "      <td>¡Juega en #cryptocurrency y logra una moneda e...</td>\n",
       "      <td>MeridianoTV</td>\n",
       "    </tr>\n",
       "  </tbody>\n",
       "</table>\n",
       "<p>116473 rows × 4 columns</p>\n",
       "</div>"
      ],
      "text/plain": [
       "                        Datetime             Tweet Id  \\\n",
       "0      2022-05-17 21:20:45+00:00  1526674103859568640   \n",
       "1      2022-05-17 21:20:18+00:00  1526673992840617986   \n",
       "2      2022-05-17 21:18:03+00:00  1526673427003854848   \n",
       "3      2022-05-17 21:17:37+00:00  1526673317482139648   \n",
       "4      2022-05-17 21:08:53+00:00  1526671118551113728   \n",
       "...                          ...                  ...   \n",
       "116468 2020-08-01 07:57:18+00:00  1289470246508793857   \n",
       "116469 2020-08-01 07:01:02+00:00  1289456084277579776   \n",
       "116470 2020-08-01 06:17:09+00:00  1289445044403961857   \n",
       "116471 2020-08-01 06:17:07+00:00  1289445035222556673   \n",
       "116472 2020-08-01 01:34:00+00:00  1289373784571428864   \n",
       "\n",
       "                                                     Text         Username  \n",
       "0       Because of the current #crypto market conditio...    MajesticDrama  \n",
       "1       #Crypto has already lost more than $1 trillion...     Forbes_MENA_  \n",
       "2       While #HODLing is generally associated with #c...         coinflip  \n",
       "3       JUST IN: Bank of England Official Says Retail ...       TheDustyBC  \n",
       "4       What #cryptocurrency is outperforming your exp...        BinanceUS  \n",
       "...                                                   ...              ...  \n",
       "116468  I’ll say that $VET will be the one #crypto tha...  davidgokhshtein  \n",
       "116469  #Interview with top #Fintech Influencer, Found...        Onalytica  \n",
       "116470  5/6 Us - If you get a chance to meet @narendra...          CoinDCX  \n",
       "116471  1/6 #CryptoSpotlight with @blockchainlaw91\\n\\n...          CoinDCX  \n",
       "116472  ¡Juega en #cryptocurrency y logra una moneda e...      MeridianoTV  \n",
       "\n",
       "[116473 rows x 4 columns]"
      ]
     },
     "execution_count": 7,
     "metadata": {},
     "output_type": "execute_result"
    }
   ],
   "source": [
    "tweets_df1"
   ]
  },
  {
   "cell_type": "code",
   "execution_count": 8,
   "metadata": {},
   "outputs": [
    {
     "data": {
      "text/plain": [
       "[<matplotlib.lines.Line2D at 0x14062ca60>]"
      ]
     },
     "execution_count": 8,
     "metadata": {},
     "output_type": "execute_result"
    },
    {
     "data": {
      "image/png": "[encoded data removed]",
      "text/plain": [
       "<Figure size 432x288 with 1 Axes>"
      ]
     },
     "metadata": {
      "needs_background": "light"
     },
     "output_type": "display_data"
    }
   ],
   "source": [
    "import matplotlib.pyplot as plt\n",
    "tweets_df1[\"date\"] = pd.to_datetime(tweets_df1[\"Datetime\"]).dt.date\n",
    "tweets_df1[\"tweet_count\"] = 1\n",
    "countGroups1 = tweets_df1.groupby(['date']).sum()[\"tweet_count\"]\n",
    "countGroups1\n",
    "plt.plot(range(0, len(countGroups1)), countGroups1)"
   ]
  },
  {
   "cell_type": "code",
   "execution_count": 9,
   "metadata": {},
   "outputs": [],
   "source": [
    "tweets_df1.to_csv(\"allcrypto-twitter-unverified.csv\")"
   ]
  },
  {
   "cell_type": "code",
   "execution_count": 10,
   "metadata": {},
   "outputs": [
    {
     "data": {
      "text/plain": [
       "date\n",
       "2020-08-01     30\n",
       "2020-08-02     24\n",
       "2020-08-03     50\n",
       "2020-08-04     45\n",
       "2020-08-05     43\n",
       "             ... \n",
       "2022-05-13    502\n",
       "2022-05-14    259\n",
       "2022-05-15    193\n",
       "2022-05-16    400\n",
       "2022-05-17    396\n",
       "Name: tweet_count, Length: 655, dtype: int64"
      ]
     },
     "execution_count": 10,
     "metadata": {},
     "output_type": "execute_result"
    }
   ],
   "source": [
    "countGroups1"
   ]
  },
  {
   "cell_type": "code",
   "execution_count": null,
   "metadata": {},
   "outputs": [],
   "source": []
  }
 ],
 "metadata": {
  "kernelspec": {
   "display_name": "Python 3 (ipykernel)",
   "language": "python",
   "name": "python3"
  },
  "language_info": {
   "codemirror_mode": {
    "name": "ipython",
    "version": 3
   },
   "file_extension": ".py",
   "mimetype": "text/x-python",
   "name": "python",
   "nbconvert_exporter": "python",
   "pygments_lexer": "ipython3",
   "version": "3.10.2"
  }
 },
 "nbformat": 4,
 "nbformat_minor": 2
}
