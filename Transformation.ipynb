{
 "cells": [
  {
   "cell_type": "code",
   "execution_count": 6,
   "id": "f66c4e48",
   "metadata": {},
   "outputs": [],
   "source": [
    "import numpy\n",
    "import pandas as pd\n",
    "\n",
    "def gs(X, row_vecs=True, norm = True):\n",
    "    if not row_vecs:\n",
    "        X = X.T\n",
    "    Y = X[0:1,:].copy()\n",
    "    for i in range(1, X.shape[0]):\n",
    "        proj = np.diag((X[i,:].dot(Y.T)/np.linalg.norm(Y,axis=1)**2).flat).dot(Y)\n",
    "        Y = np.vstack((Y, X[i,:] - proj.sum(0)))\n",
    "    if norm:\n",
    "        Y = np.diag(1/np.linalg.norm(Y,axis=1)).dot(Y)\n",
    "    if row_vecs:\n",
    "        return Y\n",
    "    else:\n",
    "        return Y.T\n"
   ]
  },
  {
   "cell_type": "code",
   "execution_count": 7,
   "id": "d7ce345b",
   "metadata": {},
   "outputs": [],
   "source": [
    "def repeated_gs_removal(cols_x, names_remove, df):\n",
    "    transformDF = pd.DataFrame()\n",
    "    for col in cols_x:\n",
    "        extension = names_remove.append(df[col])\n",
    "        transformDF[col] = list(gs(extension, False, False))[-1]\n",
    "    return transformDF"
   ]
  },
  {
   "cell_type": "code",
   "execution_count": null,
   "id": "1a56d5b5",
   "metadata": {},
   "outputs": [],
   "source": []
  }
 ],
 "metadata": {
  "kernelspec": {
   "display_name": "Python 3 (ipykernel)",
   "language": "python",
   "name": "python3"
  },
  "language_info": {
   "codemirror_mode": {
    "name": "ipython",
    "version": 3
   },
   "file_extension": ".py",
   "mimetype": "text/x-python",
   "name": "python",
   "nbconvert_exporter": "python",
   "pygments_lexer": "ipython3",
   "version": "3.10.2"
  }
 },
 "nbformat": 4,
 "nbformat_minor": 5
}
