{
 "cells": [
  {
   "cell_type": "code",
   "execution_count": 8,
   "id": "86585f67",
   "metadata": {},
   "outputs": [],
   "source": [
    "import os\n",
    "import pandas as pd\n",
    "import sys"
   ]
  },
  {
   "cell_type": "code",
   "execution_count": 9,
   "id": "d7136030",
   "metadata": {},
   "outputs": [],
   "source": [
    "from pmaw import PushshiftAPI\n",
    "import datetime as dt\n",
    "before = int(dt.datetime(2022,3,13,0,0).timestamp())\n",
    "after = int(dt.datetime(2020,8,1,0,0).timestamp())"
   ]
  },
  {
   "cell_type": "code",
   "execution_count": 10,
   "id": "40ef1aee",
   "metadata": {},
   "outputs": [
    {
     "name": "stderr",
     "output_type": "stream",
     "text": [
      "Not all PushShift shards are active. Query results may be incomplete.\n",
      "Not all PushShift shards are active. Query results may be incomplete.\n",
      "Not all PushShift shards are active. Query results may be incomplete.\n"
     ]
    },
    {
     "name": "stdout",
     "output_type": "stream",
     "text": [
      "Retrieved 90014 comments from Pushshift\n",
      "CPU times: user 1min 51s, sys: 15.3 s, total: 2min 6s\n",
      "Wall time: 1h 11min 53s\n"
     ]
    }
   ],
   "source": [
    "%%time\n",
    "api = PushshiftAPI()\n",
    "subreddit=\"CryptoCurrency\"\n",
    "posts = api.search_comments(q=\"Shiba Inu|SHIB\", subreddit=subreddit, before=before, after=after)\n",
    "print(f'Retrieved {len(posts)} comments from Pushshift')"
   ]
  },
  {
   "cell_type": "code",
   "execution_count": 11,
   "id": "522ade78",
   "metadata": {},
   "outputs": [],
   "source": [
    "posts_list = []\n",
    "for c in posts:\n",
    "    posts_list.append(c)"
   ]
  },
  {
   "cell_type": "code",
   "execution_count": 12,
   "id": "3f53733c",
   "metadata": {},
   "outputs": [],
   "source": [
    "posts_df = pd.DataFrame(posts_list)"
   ]
  },
  {
   "cell_type": "code",
   "execution_count": 13,
   "id": "bff2643d",
   "metadata": {},
   "outputs": [],
   "source": [
    "posts_df['normal_date'] = pd.to_datetime(posts_df['created_utc'], unit = 's').dt.date"
   ]
  },
  {
   "cell_type": "code",
   "execution_count": 14,
   "id": "71fcea5f",
   "metadata": {},
   "outputs": [],
   "source": [
    "posts_df.sort_values(by='normal_date')\n",
    "posts_df['one'] = 1\n",
    "posts_df.to_csv(\"shiba_comments.csv\")"
   ]
  },
  {
   "cell_type": "code",
   "execution_count": null,
   "id": "e08ea64b",
   "metadata": {},
   "outputs": [],
   "source": []
  }
 ],
 "metadata": {
  "kernelspec": {
   "display_name": "Python 3 (ipykernel)",
   "language": "python",
   "name": "python3"
  },
  "language_info": {
   "codemirror_mode": {
    "name": "ipython",
    "version": 3
   },
   "file_extension": ".py",
   "mimetype": "text/x-python",
   "name": "python",
   "nbconvert_exporter": "python",
   "pygments_lexer": "ipython3",
   "version": "3.10.2"
  }
 },
 "nbformat": 4,
 "nbformat_minor": 5
}
