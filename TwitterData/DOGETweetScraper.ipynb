{
 "cells": [
  {
   "cell_type": "code",
   "execution_count": 5,
   "id": "7a0891bd",
   "metadata": {},
   "outputs": [],
   "source": [
    "import os\n",
    "import pandas as pd\n",
    "import sys"
   ]
  },
  {
   "cell_type": "code",
   "execution_count": 6,
   "id": "68333cb5",
   "metadata": {},
   "outputs": [],
   "source": [
    "sys.path.append(\"/Library/Frameworks/Python.framework/Versions/3.10/lib/python3.10/site-packages\")\n",
    "import snscrape.modules.twitter as sntwitter"
   ]
  },
  {
   "cell_type": "code",
   "execution_count": null,
   "id": "06743fbb",
   "metadata": {},
   "outputs": [],
   "source": [
    "# Creating list to append tweet data to\n",
    "tweets_list1 = []\n",
    "\n",
    "# Using TwitterSearchScraper to scrape data and append tweets to list\n",
    "for i,tweet in enumerate(sntwitter.TwitterSearchScraper('(#DOGE OR #Dogecoin) since:2020-08-01').get_items()):\n",
    "    tweets_list1.append([tweet.date, tweet.id, tweet.content, tweet.user.username])\n",
    "    \n",
    "# Creating a dataframe from the tweets list above \n",
    "tweets_df1 = pd.DataFrame(tweets_list1, columns=['Datetime', 'Tweet Id', 'Text', 'Username'])"
   ]
  },
  {
   "cell_type": "code",
   "execution_count": null,
   "id": "b93c9937",
   "metadata": {},
   "outputs": [],
   "source": [
    "tweets_df1"
   ]
  },
  {
   "cell_type": "code",
   "execution_count": null,
   "id": "e9f488e0",
   "metadata": {},
   "outputs": [],
   "source": [
    "tweets_df1[\"date\"] = pd.to_datetime(tweets_df1[\"Datetime\"]).dt.date\n",
    "tweets_df1[\"tweet_count\"] = 1\n",
    "import matplotlib.pyplot as plt\n",
    "countGroups1 = tweets_df1.groupby(['date']).sum()[\"tweet_count\"]\n",
    "plt.plot(range(0, len(countGroups1)), countGroups1)"
   ]
  },
  {
   "cell_type": "code",
   "execution_count": null,
   "id": "127530db",
   "metadata": {},
   "outputs": [],
   "source": [
    "tweets_df1.to_csv(\"dogecoin_twitter_unverified.csv\")"
   ]
  },
  {
   "cell_type": "code",
   "execution_count": null,
   "id": "cbbf5555",
   "metadata": {},
   "outputs": [],
   "source": [
    "countGroups1"
   ]
  },
  {
   "cell_type": "code",
   "execution_count": null,
   "id": "077cbf6d",
   "metadata": {},
   "outputs": [],
   "source": []
  }
 ],
 "metadata": {
  "kernelspec": {
   "display_name": "Python 3 (ipykernel)",
   "language": "python",
   "name": "python3"
  },
  "language_info": {
   "codemirror_mode": {
    "name": "ipython",
    "version": 3
   },
   "file_extension": ".py",
   "mimetype": "text/x-python",
   "name": "python",
   "nbconvert_exporter": "python",
   "pygments_lexer": "ipython3",
   "version": "3.10.2"
  }
 },
 "nbformat": 4,
 "nbformat_minor": 5
}
